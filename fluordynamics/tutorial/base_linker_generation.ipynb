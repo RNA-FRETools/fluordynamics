{
 "cells": [
  {
   "cell_type": "markdown",
   "metadata": {},
   "source": [
    "# Base-linker generation"
   ]
  },
  {
   "cell_type": "code",
   "execution_count": 34,
   "metadata": {},
   "outputs": [],
   "source": [
    "import pandas as pd\n",
    "from biopandas.mol2 import PandasMol2\n",
    "import fluordynamics as fd\n",
    "import os"
   ]
  },
  {
   "cell_type": "code",
   "execution_count": 35,
   "metadata": {},
   "outputs": [
    {
     "data": {
      "text/plain": [
       "<module 'fluordynamics.ff' from '/mnt/c/Users/fsteffen/Github/gromacs-tools/fluordynamics/ff.py'>"
      ]
     },
     "execution_count": 35,
     "metadata": {},
     "output_type": "execute_result"
    }
   ],
   "source": [
    "import importlib\n",
    "importlib.reload(fd.ff)"
   ]
  },
  {
   "cell_type": "code",
   "execution_count": 4,
   "metadata": {},
   "outputs": [],
   "source": [
    "cmd_gui = fd.jupyter.connect2pymol()"
   ]
  },
  {
   "cell_type": "markdown",
   "metadata": {},
   "source": [
    "## Labeling on C5 of deoxythymidine"
   ]
  },
  {
   "cell_type": "code",
   "execution_count": 407,
   "metadata": {},
   "outputs": [],
   "source": [
    "names_methylene = ['C7','H01','H02']\n",
    "\n",
    "base_resn = ('deoxythymidine', 'DTM')\n",
    "#base_resn = ('deoxythymidine', 'RUM') # use deoxythymidine to make RNA fragment mimic (after labeling the RNA sugar of the target will be retained) \n",
    "\n",
    "cmd_gui.reinitialize()\n",
    "cmd_gui.load('../fragments/bases/out/{}.mol2'.format(base_resn[0]))\n",
    "cmd_gui.load('../fragments/linkers/MLE/out/MLE_capped_resp.mol2')\n",
    "cmd_gui.remove('MLE_capped_resp and name {}'.format('+'.join(str(i) for i in names_methylene)))\n",
    "cmd_gui.remove('{} and (name H71 or name H72)'.format(base_resn[0]))\n",
    "cmd_gui.fuse('{} and name C7'.format(base_resn[0]), 'MLE_capped_resp and name C8 and resn MLE')\n",
    "cmd_gui.delete('{}'.format(base_resn[0]))\n",
    "cmd_gui.alter('all', 'type=\"ATOM\"')\n",
    "cmd_gui.alter('all', 'elem=\"\"') # PyMOL struggles with atom type definitions in mol2 files, therfore let PyMOL guess the elements itself\n",
    "cmd_gui.set_name('MLE_capped_resp', base_resn[1])\n",
    "cmd_gui.set_title('MLE',1,base_resn[1])\n",
    "cmd_gui.unbond('resn DTM and name C8', 'resn DT and name C7')\n",
    "cmd_gui.bond('resn DTM and name C8', 'resn DT and name C7', 2)"
   ]
  },
  {
   "cell_type": "code",
   "execution_count": 408,
   "metadata": {},
   "outputs": [],
   "source": [
    "fd.ff.pymol_savemol2('../fragments/base_linkers/{}.mol2'.format(base_resn[1]), base_resn[1], overwrite=True)"
   ]
  },
  {
   "cell_type": "code",
   "execution_count": 409,
   "metadata": {},
   "outputs": [],
   "source": [
    "dyes = ['C3W', 'C5W']\n",
    "for dye in dyes:\n",
    "    fd.ff.couple_dye2baselinker(dye, base_resn[1], ['O91', 'C99', 'C27'], ['O98', 'C16', 'C17'], ['O98', 'C16', 'C17', 'H95', 'H96', 'H97'])\n",
    "    fd.ff.save_molecule('../fluorlabel/dyes/{}_{}.pdb'.format(dye, base_resn[1]), '{}_{}'.format(dye, base_resn[1]), 'pdb', overwrite=True)"
   ]
  },
  {
   "cell_type": "markdown",
   "metadata": {},
   "source": [
    "## Labeling at 5'-end"
   ]
  },
  {
   "cell_type": "code",
   "execution_count": 1002,
   "metadata": {},
   "outputs": [],
   "source": [
    "names_methyl = ['C01','H01','H02','H03']\n",
    "names_phosphate = ['P','O1P','O5\\'','O2P']\n",
    "\n",
    "base_resn = ('deoxythymidine', 'DTP')\n",
    "#base_resn = ('deoxyadenosine', 'DAP')\n",
    "#base_resn = ('deoxyguanosine', 'DGP')\n",
    "#base_resn = ('deoxycytidine', 'DCP')\n",
    "#base_resn = ('uridine', 'RUP')\n",
    "#base_resn = ('adenosine', 'RAP')\n",
    "#base_resn = ('guanosine', 'RGP')\n",
    "#base_resn = ('cytidine', 'RCP')\n",
    "\n",
    "cmd_gui.reinitialize()\n",
    "cmd_gui.load('../fragments/bases/out/{}.mol2'.format(base_resn[0]))\n",
    "cmd_gui.load('../fragments/linkers/POS/out/POS_capped_resp_5prime.mol2')\n",
    "cmd_gui.align('POS_capped_resp_5prime and name {}'.format('+'.join(str(i) for i in names_phosphate)), '{} and (name P or name O1P or name O2P or name O5\\')'.format(base_resn[0]))\n",
    "cmd_gui.remove('POS_capped_resp_5prime and name {}'.format('+'.join(str(i) for i in names_methyl+names_phosphate)))\n",
    "cmd_gui.create(base_resn[1], 'POS_capped_resp_5prime or {}'.format(base_resn[0]))\n",
    "cmd_gui.delete(base_resn[0])\n",
    "cmd_gui.delete('POS_capped_resp_5prime')\n",
    "cmd_gui.bond('{} and name P'.format(base_resn[1]), '{} and name O01'.format(base_resn[1]))\n",
    "cmd_gui.alter('all', 'type=\"ATOM\"')\n",
    "cmd_gui.alter('all', 'elem=\"\"')\n",
    "cmd_gui.h_add('name N99')\n",
    "cmd_gui.set_title(base_resn[1],1,base_resn[1])\n"
   ]
  },
  {
   "cell_type": "code",
   "execution_count": 1003,
   "metadata": {},
   "outputs": [],
   "source": [
    "fd.ff.pymol_savemol2('../fragments/base_linkers/{}.mol2'.format(base_resn[1]), base_resn[1], overwrite=True)"
   ]
  },
  {
   "cell_type": "code",
   "execution_count": 1004,
   "metadata": {},
   "outputs": [],
   "source": [
    "dyes = ['C3W', 'C5W']\n",
    "for dye in dyes:\n",
    "    fd.ff.couple_dye2baselinker(dye, base_resn[1], ['O91', 'C99', 'C27'], ['O98', 'C16', 'C17'], ['O98', 'C16', 'C17', 'H95', 'H96', 'H97'])\n",
    "    fd.ff.save_molecule('../fluorlabel/dyes/{}_{}.pdb'.format(dye, base_resn[1]), '{}_{}'.format(dye, base_resn[1]), 'pdb', overwrite=True)"
   ]
  },
  {
   "cell_type": "markdown",
   "metadata": {},
   "source": [
    "## Labeling at 3'-end"
   ]
  },
  {
   "cell_type": "code",
   "execution_count": 1026,
   "metadata": {},
   "outputs": [],
   "source": [
    "names_methyl = ['C01','H01','H02','H03']\n",
    "\n",
    "base_resn = ('deoxythymidine', 'DTO')\n",
    "#base_resn = ('deoxyadenosine', 'DAO')\n",
    "#base_resn = ('deoxyguanosine', 'DGO')\n",
    "#base_resn = ('deoxycytidine', 'DCO')\n",
    "#base_resn = ('uridine', 'RUO')\n",
    "#base_resn = ('adenosine', 'RAO')\n",
    "#base_resn = ('guanosine', 'RGO')\n",
    "#base_resn = ('cytidine', 'RCO')\n",
    "\n",
    "cmd_gui.reinitialize()\n",
    "cmd_gui.load('../fragments/bases/out/{}.mol2'.format(base_resn[0]))\n",
    "cmd_gui.load('../fragments/linkers/POS/out/POS_capped_resp_3prime.mol2')\n",
    "cmd_gui.alter('POS_capped_resp_3prime and name P','name=\"P1\"')\n",
    "cmd_gui.alter('POS_capped_resp_3prime and name O1P','name=\"O3P\"')\n",
    "cmd_gui.alter('POS_capped_resp_3prime and name O2P','name=\"O4P\"')\n",
    "cmd_gui.pair_fit('POS_capped_resp_3prime and name O5\\'','{} and name O3\\''.format(base_resn[0]), \n",
    "                 'POS_capped_resp_3prime and name C01', '{} and name C3\\''.format(base_resn[0]), \n",
    "                 'POS_capped_resp_3prime and name H03', '{} and name H3\\''.format(base_resn[0]))\n",
    "cmd_gui.remove('POS_capped_resp_3prime and (name {} or name O5\\')'.format('+'.join(str(i) for i in names_methyl)))\n",
    "cmd_gui.create(base_resn[1], 'POS_capped_resp_3prime or {}'.format(base_resn[0]))\n",
    "cmd_gui.delete(base_resn[0])\n",
    "cmd_gui.delete('POS_capped_resp_3prime')\n",
    "cmd_gui.bond('{} and name P and resn POS'.format(base_resn[1]), '{} and name O3\\''.format(base_resn[1]))\n",
    "cmd_gui.alter('all', 'type=\"ATOM\"')\n",
    "cmd_gui.alter('all', 'elem=\"\"')\n",
    "cmd_gui.h_add('name N99')\n",
    "cmd_gui.set_title(base_resn[1],1,base_resn[1])"
   ]
  },
  {
   "cell_type": "code",
   "execution_count": 1027,
   "metadata": {},
   "outputs": [],
   "source": [
    "fd.ff.pymol_savemol2('../fragments/base_linkers/{}.mol2'.format(base_resn[1]), base_resn[1], overwrite=True)"
   ]
  },
  {
   "cell_type": "code",
   "execution_count": 1028,
   "metadata": {},
   "outputs": [],
   "source": [
    "dyes = ['C3W', 'C5W']\n",
    "for dye in dyes:\n",
    "    fd.ff.couple_dye2baselinker(dye, base_resn[1], ['O91', 'C99', 'C27'], ['O98', 'C16', 'C17'], ['O98', 'C16', 'C17', 'H95', 'H96', 'H97'])\n",
    "    fd.ff.save_molecule('../fluorlabel/dyes/{}_{}.pdb'.format(dye, base_resn[1]), '{}_{}'.format(dye, base_resn[1]), 'pdb', overwrite=True)"
   ]
  },
  {
   "cell_type": "markdown",
   "metadata": {},
   "source": [
    "## Forcefield parameterization for fragments"
   ]
  },
  {
   "cell_type": "markdown",
   "metadata": {},
   "source": [
    "Read force field of amberdyes"
   ]
  },
  {
   "cell_type": "code",
   "execution_count": 1072,
   "metadata": {},
   "outputs": [],
   "source": [
    "amberdyes_ff = fd.ff.Parameters.read_amberdyes(['../forcefields/amberdyes/ffbonded_amberdyes.itp', '../forcefields/amberdyes/ffnonbonded_amberdyes.itp'])"
   ]
  },
  {
   "cell_type": "markdown",
   "metadata": {},
   "source": [
    "internal DTM and RUM"
   ]
  },
  {
   "cell_type": "markdown",
   "metadata": {},
   "source": [
    "```\n",
    "cd ../fragments/acpype\n",
    "\n",
    "base_linker=DTM\n",
    "base=DT\n",
    "\n",
    "linker=MLE\n",
    "filename=../base_linkers/\"$base_linker\".mol2\n",
    "sed \"s/${base}/${base_linker}/g\" \"$filename\" | sed \"s/${linker}/${base_linker}/g\" > \"$base_linker\"_ff.mol2\n",
    "acpype -i \"$base_linker\"_ff.mol2 -o gmx -n -1 -a amber -c user\n",
    "```"
   ]
  },
  {
   "cell_type": "code",
   "execution_count": 1073,
   "metadata": {},
   "outputs": [],
   "source": [
    "baselinkers_itp = {}\n",
    "baselinkers_ff = {}"
   ]
  },
  {
   "cell_type": "code",
   "execution_count": 1074,
   "metadata": {},
   "outputs": [],
   "source": [
    "moleculetypes = ['DTM']\n",
    "\n",
    "for mol in moleculetypes:\n",
    "    baselinkers_itp[mol] = fd.ff.Molecule.read_molecule('../fragments/acpype/{}_ff.acpype/{}_ff_GMX.itp'.format(mol,mol), 'FLUOR-DYNAMICS')\n",
    "    baselinkers_itp[mol].change_type('O3\\'', 'OS') # residue is internal not terminal\n",
    "    for a in ['O98', 'C16', 'C17', 'H95', 'H96', 'H97']:\n",
    "        baselinkers_itp[mol].remove_atom(a)\n",
    "        baselinkers_ff[mol] = fd.ff.Parameters.read_frcmod('../fragments/acpype/{}_ff.acpype/{}_ff_AC.frcmod'.format(mol,mol), baselinkers_itp[mol].atomtypes_molecule)\n",
    "        amberdyes_ff.append(baselinkers_ff[mol])"
   ]
  },
  {
   "cell_type": "code",
   "execution_count": 1075,
   "metadata": {},
   "outputs": [],
   "source": [
    "atoms_amberdyes = {'bondtypes' : [['ng', 'cg']],\n",
    "                   'angletypes': [['c3g', 'ng', 'cg'],\n",
    "                                  ['hng', 'ng', 'cg'],\n",
    "                                  ['ng', 'cg', 'og'],\n",
    "                                  ['ng', 'cg', 'c3g']],\n",
    "                   'propertypes' : [['c3g', 'c3g', 'cg', 'ng'],\n",
    "                                    ['hcg', 'c3g', 'cg', 'ng'],\n",
    "                                    ['c3g', 'cg', 'ng', 'hng'],\n",
    "                                    ['og', 'cg', 'ng', 'hng'],\n",
    "                                    ['c3g', 'cg', 'ng', 'c3g'],\n",
    "                                    ['og', 'cg', 'ng', 'c3g']]}\n",
    "\n",
    "atoms_linker = {'bondtypes': [['N', 'cg']],\n",
    "                'angletypes': [['CT', 'N', 'cg'],\n",
    "                               ['H', 'N', 'cg'],\n",
    "                               ['N', 'cg', 'og'],\n",
    "                               ['N', 'cg', 'c3g']],\n",
    "                'propertypes': [['c3g', 'c3g', 'cg', 'N'],\n",
    "                                ['hcg', 'c3g', 'cg', 'N'],\n",
    "                                ['c3g', 'cg', 'N', 'H'],\n",
    "                                ['og', 'cg', 'N', 'H'],\n",
    "                                ['c3g', 'cg', 'N', 'CT'],\n",
    "                                ['og', 'cg', 'N', 'CT']]}"
   ]
  },
  {
   "cell_type": "code",
   "execution_count": 1076,
   "metadata": {},
   "outputs": [],
   "source": [
    "specialbond_ff = fd.ff.Parameters.read_specialbond(amberdyes_ff, atoms_amberdyes, atoms_linker)\n",
    "amberdyes_ff.append(specialbond_ff)"
   ]
  },
  {
   "cell_type": "markdown",
   "metadata": {},
   "source": [
    "### Rational for linker RESP charge derivation at 3'/5'-ends\n",
    "\n",
    "Reference: https://ambermd.org/tutorials/advanced/tutorial1/section1.htm\n",
    "\n",
    "5'-end nucleotide: -0.3079 (DNA)\n",
    "3'-end nucleotide: -0.6921 (DNA)\n",
    "\n",
    "5'-end nucleotide will become an internal one (the phosphate of the linker will be transferred to the nucleotide) and linker will be the 5'-terminus (i.e. have a charnge of 0.3079). To achieve a net charge of -0.3079 when the phosphate of the linker is removed the PO2-O-CH3 cap must be constrained to must sum up to -0.6921, since -1-(-0.6921)=-0.6921.\n",
    "\n",
    "to make the fragment neutral for Acpype make dinucleotide"
   ]
  },
  {
   "cell_type": "code",
   "execution_count": 1070,
   "metadata": {},
   "outputs": [
    {
     "data": {
      "text/plain": [
       "60"
      ]
     },
     "execution_count": 1070,
     "metadata": {},
     "output_type": "execute_result"
    }
   ],
   "source": [
    "end = {'base':'DA', '5':'DAP', '3':'DAO'}\n",
    "#end = {'base':'DG', '5':'DGP', '3':'DGO'}\n",
    "#end = {'base':'DC', '5':'DCP', '3':'DCO'}\n",
    "#end = {'base':'DT', '5':'DTP', '3':'DTO'}\n",
    "#end = {'base':'RA', '5':'RAP', '3':'RAO'}\n",
    "#end = {'base':'RG', '5':'RGP', '3':'RGO'}\n",
    "#end = {'base':'RC', '5':'RCP', '3':'RCO'}\n",
    "#end = {'base':'RU', '5':'RUP', '3':'RUO'}\n",
    "\n",
    "cmd_gui.reinitialize()\n",
    "cmd_gui.load('../fragments/base_linkers/{}.mol2'.format(end['5']))\n",
    "cmd_gui.load('../fragments/base_linkers/{}.mol2'.format(end['3']))\n",
    "\n",
    "# reassigning residue numbers and segment ids preserves the atom numbering after running through acpype\n",
    "cmd_gui.alter('resn POS and {}'.format(end['5']), 'resi=\"1\"')\n",
    "cmd_gui.alter('resn POS and {}'.format(end['5']), 'segi=\"1\"')\n",
    "cmd_gui.alter('resn {}'.format(end['base']), 'resi=\"2\"')\n",
    "cmd_gui.alter('resn {}'.format(end['base']), 'segi=\"2\"')\n",
    "cmd_gui.alter('resn POS and {}'.format(end['3']), 'resi=\"3\"')\n",
    "cmd_gui.alter('resn POS and {}'.format(end['3']), 'segi=\"3\"')\n",
    "cmd_gui.remove('{} and resn {}'.format(end['3'], end['base']))\n",
    "cmd_gui.create('{}_{}'.format(end['5'],end['3']), '{} or {}'.format(end['5'],end['3']))\n",
    "cmd_gui.bond('resn {} and name O3\\''.format(end['base']), 'resn POS and name P*')\n",
    "cmd_gui.alter('resn POS', 'resn=\"{}\"'.format(end['5']))\n",
    "cmd_gui.alter('resn {}'.format(end['base']), 'resn=\"{}\"'.format(end['5']))"
   ]
  },
  {
   "cell_type": "code",
   "execution_count": 1071,
   "metadata": {},
   "outputs": [],
   "source": [
    "fd.ff.pymol_savemol2('../fragments/acpype/{}_{}_ff.mol2'.format(end['5'], end['3']), '{}_{}'.format(end['5'], end['3']), overwrite=True)"
   ]
  },
  {
   "cell_type": "markdown",
   "metadata": {},
   "source": [
    "```\n",
    "cd ../fragments/acpype/\n",
    "fusion=DAP_DAO\n",
    "fusion=DGP_DGO\n",
    "fusion=DCP_DCO\n",
    "fusion=DTP_DTO\n",
    "fusion=RAP_RAO\n",
    "fusion=RGP_RGO\n",
    "fusion=RCP_RCO\n",
    "fusion=RUP_RUO\n",
    "acpype -i \"$fusion\"_ff.mol2 -o gmx -n -1 -a amber -c user\n",
    "```"
   ]
  },
  {
   "cell_type": "code",
   "execution_count": 1077,
   "metadata": {},
   "outputs": [],
   "source": [
    "moleculetypes = [{'base':'DA', '5':'DAP', '3':'DAO'},\n",
    "       {'base':'DG', '5':'DGP', '3':'DGO'},\n",
    "       {'base':'DC', '5':'DCP', '3':'DCO'},\n",
    "       {'base':'DT', '5':'DTP', '3':'DTO'},\n",
    "       {'base':'RA', '5':'RAP', '3':'RAO'},\n",
    "       {'base':'RG', '5':'RGP', '3':'RGO'},\n",
    "       {'base':'RC', '5':'RCP', '3':'RCO'},\n",
    "       {'base':'RU', '5':'RUP', '3':'RUO'}]\n",
    "\n",
    "#moleculetypes = [{'base':'A', '5':'RAP', '3':'RAO'}]\n",
    "\n",
    "for end in moleculetypes:\n",
    "    fusion_itp = fd.ff.Molecule.read_molecule('../fragments/acpype/{}_{}_ff.acpype/{}_{}_ff_GMX.itp'.format(end['5'],end['3'],end['5'],end['3']), 'FLUOR-DYNAMICS')\n",
    "    fusion_itp.change_type('O3\\'', 'OS') # residue is internal not terminal\n",
    "    baselinkers_ff = fd.ff.Parameters.read_frcmod('../fragments/acpype/{}_{}_ff.acpype/{}_{}_ff_AC.frcmod'.format(end['5'],end['3'],end['5'],end['3']), fusion_itp.atomtypes_molecule)\n",
    "    amberdyes_ff.append(baselinkers_ff)\n",
    "        \n",
    "    ff_mol2 = PandasMol2().read_mol2('../fragments/acpype/{}_{}_ff.mol2'.format(end['5'],end['3']))\n",
    "    atoms5 = fusion_itp.atoms[(ff_mol2.df['subst_id']==1) | (ff_mol2.df['subst_id']==2)]\n",
    "    atoms3 = fusion_itp.atoms[(ff_mol2.df['subst_id']==2) | (ff_mol2.df['subst_id']==3)]\n",
    "    bonds5 = fusion_itp.bonds[fusion_itp.bonds['i'].isin(atoms5['nr']) & fusion_itp.bonds['j'].isin(atoms5['nr'])]\n",
    "    bonds3 = fusion_itp.bonds[fusion_itp.bonds['i'].isin(atoms3['nr']) & fusion_itp.bonds['j'].isin(atoms3['nr'])]\n",
    "    impropers5 = fusion_itp.impropers[fusion_itp.impropers['i'].isin(atoms5['nr']) & fusion_itp.impropers['j'].isin(atoms5['nr']) & fusion_itp.impropers['k'].isin(atoms5['nr']) & fusion_itp.impropers['l'].isin(atoms5['nr'])]\n",
    "    impropers3 = fusion_itp.impropers[fusion_itp.impropers['i'].isin(atoms3['nr']) & fusion_itp.impropers['j'].isin(atoms3['nr']) & fusion_itp.impropers['k'].isin(atoms3['nr']) & fusion_itp.impropers['l'].isin(atoms3['nr'])]\n",
    "    \n",
    "    baselinkers_itp[end['5']] = fd.ff.Molecule(end['5'], atoms5, bonds5, None, None, impropers5)\n",
    "    baselinkers_itp[end['3']] = fd.ff.Molecule(end['3'], atoms3, bonds3, None, None, impropers3)\n",
    "    for a in ['O98', 'C16', 'C17', 'H95', 'H96', 'H97']:\n",
    "        baselinkers_itp[end['5']].remove_atom(a)\n",
    "        baselinkers_itp[end['3']].remove_atom(a)"
   ]
  },
  {
   "cell_type": "code",
   "execution_count": 1078,
   "metadata": {},
   "outputs": [],
   "source": [
    "amberdyes_ff.add2ff('ff14sb', '../forcefields/fluordyes/')"
   ]
  },
  {
   "cell_type": "code",
   "execution_count": 1079,
   "metadata": {},
   "outputs": [],
   "source": [
    "fd.ff.write_rtp('../forcefields/fluordyes/fluordyes.rtp', [baselinkers_itp[mol] for mol in baselinkers_itp.keys()])"
   ]
  },
  {
   "cell_type": "code",
   "execution_count": 40,
   "metadata": {},
   "outputs": [
    {
     "name": "stdout",
     "output_type": "stream",
     "text": [
      "19 new entries in residuetypes.dat\n"
     ]
    }
   ],
   "source": [
    "i = 0\n",
    "for resi in ['DAO', 'DGO', 'DCO', 'DTO', 'DAP', 'DGP', 'DCP', 'DTP', 'DTM']:\n",
    "    if i == 0:\n",
    "        fd.ff.update_residuetypes('{} DNA'.format(resi), '../forcefields/amberdyes/residuetypes_amberdyes.dat', '../forcefields/fluordyes/residuetypes.dat', overwrite=True)\n",
    "    else:\n",
    "        fd.ff.update_residuetypes('{} DNA'.format(resi), '../forcefields/fluordyes/residuetypes.dat', '../forcefields/fluordyes/residuetypes.dat', overwrite=True)\n",
    "    i += 1\n",
    "    \n",
    "for resi in ['RAO', 'RGO', 'RCO', 'RUO', 'RAP', 'RGP', 'RCP', 'RUP']:\n",
    "    fd.ff.update_residuetypes('{} RNA'.format(resi), '../forcefields/fluordyes/residuetypes.dat', '../forcefields/fluordyes/residuetypes.dat', overwrite=True)\n",
    "    i += 1\n",
    "    \n",
    "for resi in ['C3W', 'C5W']:\n",
    "    fd.ff.update_residuetypes('{} DNA'.format(resi), '../forcefields/fluordyes/residuetypes.dat', '../forcefields/fluordyes/residuetypes.dat', overwrite=True)\n",
    "    i += 1\n",
    "print('{} new entries in residuetypes.dat'.format(i))"
   ]
  },
  {
   "cell_type": "code",
   "execution_count": 41,
   "metadata": {},
   "outputs": [
    {
     "name": "stdout",
     "output_type": "stream",
     "text": [
      "106 new entries in specbond.dat\n"
     ]
    }
   ],
   "source": [
    "i = 0\n",
    "for resi1 in ['C3W', 'C5W']:\n",
    "    for resi2 in ['DAO', 'DGO', 'DCO', 'DTO', 'DAP', 'DGP', 'DCP', 'DTP', 'RAO', 'RGO', 'RCO', 'RUO', 'RAP', 'RGP', 'RCP', 'RUP', 'DTM']:\n",
    "        if i == 0:\n",
    "            fd.ff.update_specbond('{} C99 1 {} N99 1 0.132 {} {}'.format(resi1, resi2, resi1, resi2), '../forcefields/amberdyes/specbond_amberdyes.dat', '../forcefields/fluordyes/specbond.dat', overwrite=True)\n",
    "        else:\n",
    "            fd.ff.update_specbond('{} C99 1 {} N99 1 0.132 {} {}'.format(resi1, resi2, resi1, resi2), '../forcefields/fluordyes/specbond.dat', '../forcefields/fluordyes/specbond.dat', overwrite=True)\n",
    "        i += 1\n",
    "        \n",
    "for resi1 in ['DA', 'DG', 'DC', 'DT']:\n",
    "    for resi2 in ['DAO', 'DGO', 'DCO', 'DTO']:\n",
    "        fd.ff.update_specbond(' {} O3\\' 1 {} P 1 0.155 {} {}'.format(resi1, resi2, resi1, resi2), '../forcefields/fluordyes/specbond.dat', '../forcefields/fluordyes/specbond.dat', overwrite=True)\n",
    "        i += 1\n",
    "    for resi2 in ['DAP', 'DGP', 'DCP', 'DTP']:\n",
    "        fd.ff.update_specbond('{} O3\\' 1  {} P 1 0.155 {} {}'.format(resi2, resi1, resi2, resi1), '../forcefields/fluordyes/specbond.dat', '../forcefields/fluordyes/specbond.dat', overwrite=True)\n",
    "        i += 1\n",
    "    for resi2 in ['DTM']:\n",
    "        fd.ff.update_specbond('{} O3\\' 1  {} P 1 0.155 {} {}'.format(resi2, resi1, resi2, resi1), '../forcefields/fluordyes/specbond.dat', '../forcefields/fluordyes/specbond.dat', overwrite=True)\n",
    "        fd.ff.update_specbond(' {} O3\\' 1 {} P 1 0.155 {} {}'.format(resi1, resi2, resi1, resi2), '../forcefields/fluordyes/specbond.dat', '../forcefields/fluordyes/specbond.dat', overwrite=True)    \n",
    "        i += 1\n",
    "        \n",
    "for resi1 in ['RA', 'RG', 'RC', 'RU']:\n",
    "    for resi2 in ['RAO', 'RGO', 'RCO', 'RUO']:\n",
    "        fd.ff.update_specbond(' {} O3\\' 1 {} P 1 0.155 {} {}'.format(resi1, resi2, resi1, resi2), '../forcefields/fluordyes/specbond.dat', '../forcefields/fluordyes/specbond.dat', overwrite=True)\n",
    "        i += 1\n",
    "    for resi2 in ['RAP', 'RGP', 'RCP', 'RUP']:\n",
    "        fd.ff.update_specbond('{} O3\\' 1  {} P 1 0.155 {} {}'.format(resi2, resi1, resi2, resi1), '../forcefields/fluordyes/specbond.dat', '../forcefields/fluordyes/specbond.dat', overwrite=True)\n",
    "        i += 1\n",
    "    for resi2 in ['DTM']:\n",
    "        fd.ff.update_specbond('{} O3\\' 1  {} P 1 0.155 {} {}'.format(resi2, resi1, resi2, resi1), '../forcefields/fluordyes/specbond.dat', '../forcefields/fluordyes/specbond.dat', overwrite=True)\n",
    "        fd.ff.update_specbond(' {} O3\\' 1 {} P 1 0.155 {} {}'.format(resi1, resi2, resi1, resi2), '../forcefields/fluordyes/specbond.dat', '../forcefields/fluordyes/specbond.dat', overwrite=True)    \n",
    "        i += 1\n",
    "print('{} new entries in specbond.dat'.format(i))"
   ]
  },
  {
   "cell_type": "code",
   "execution_count": null,
   "metadata": {},
   "outputs": [],
   "source": []
  }
 ],
 "metadata": {
  "kernelspec": {
   "display_name": "Python 3",
   "language": "python",
   "name": "python3"
  },
  "language_info": {
   "codemirror_mode": {
    "name": "ipython",
    "version": 3
   },
   "file_extension": ".py",
   "mimetype": "text/x-python",
   "name": "python",
   "nbconvert_exporter": "python",
   "pygments_lexer": "ipython3",
   "version": "3.7.7"
  }
 },
 "nbformat": 4,
 "nbformat_minor": 4
}
